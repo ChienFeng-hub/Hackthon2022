{
 "cells": [
  {
   "cell_type": "code",
   "execution_count": 1,
   "metadata": {},
   "outputs": [],
   "source": [
    "import numpy as np\n",
    "import cv2 as cv\n",
    "import matplotlib.pyplot as plt\n",
    "from motrackers import CentroidTracker, CentroidKF_Tracker, SORT, IOUTracker\n",
    "from motrackers.utils import draw_tracks\n",
    "from car_detector.hybridnets import HybridNets, optimized_model"
   ]
  },
  {
   "cell_type": "code",
   "execution_count": 2,
   "metadata": {},
   "outputs": [
    {
     "name": "stderr",
     "output_type": "stream",
     "text": [
      "/home/chienfeng/.virtualenvs/hackthon/lib/python3.7/site-packages/onnxruntime/capi/onnxruntime_inference_collection.py:56: UserWarning: Specified provider 'CUDAExecutionProvider' is not in available provider names.Available providers: 'CPUExecutionProvider'\n",
      "  \"Available providers: '{}'\".format(name, \", \".join(available_provider_names))\n"
     ]
    }
   ],
   "source": [
    "VIDEO_FILE = \"demo_video/stop.mp4\"\n",
    "model_path = \"car_detector/models/hybridnets_384x512/hybridnets_384x512.onnx\"\n",
    "anchor_path = \"car_detector/models/hybridnets_384x512/anchors_384x512.npy\"\n",
    "\n",
    "# Initialize road detector\n",
    "optimized_model(model_path) # Remove unused nodes\n",
    "car_detector = HybridNets(model_path, anchor_path, conf_thres=0.5, iou_thres=0.5)"
   ]
  },
  {
   "cell_type": "code",
   "execution_count": 3,
   "metadata": {},
   "outputs": [],
   "source": [
    "tracker = IOUTracker(max_lost=2, iou_threshold=0.5, min_detection_confidence=0.4, max_detection_confidence=0.7,\n",
    "                         tracker_output_format='mot_challenge')"
   ]
  },
  {
   "cell_type": "code",
   "execution_count": 4,
   "metadata": {},
   "outputs": [],
   "source": [
    "cap = cv.VideoCapture(VIDEO_FILE)\n",
    "while True:\n",
    "    ok, image = cap.read()\n",
    "\n",
    "    if not ok:\n",
    "        print(\"Cannot read the video feed.\")\n",
    "        break\n",
    "\n",
    "    seg_map, filtered_boxes, filtered_scores = car_detector(image)\n",
    "    class_ids = np.ones_like(filtered_scores).astype(int)\n",
    "    \n",
    "    tracks = tracker.update(filtered_boxes, filtered_scores, class_ids=class_ids)\n",
    "\n",
    "    updated_image = car_detector.draw_2D(image)\n",
    "    updated_image = draw_tracks(updated_image, tracks)\n",
    "\n",
    "    cv.imshow(\"image\", updated_image)\n",
    "    if cv.waitKey(1) & 0xff == ord('q'):\n",
    "        break\n",
    "\n",
    "cap.release()\n",
    "cv.destroyAllWindows()"
   ]
  },
  {
   "cell_type": "code",
   "execution_count": null,
   "metadata": {},
   "outputs": [],
   "source": []
  }
 ],
 "metadata": {
  "interpreter": {
   "hash": "2f63fa8cfeb2f82f0df13e3a4deecfe6d2a413ebdd3a69fbab179677aa6b7634"
  },
  "kernelspec": {
   "display_name": "Python 3 (ipykernel)",
   "language": "python",
   "name": "python3"
  },
  "language_info": {
   "codemirror_mode": {
    "name": "ipython",
    "version": 3
   },
   "file_extension": ".py",
   "mimetype": "text/x-python",
   "name": "python",
   "nbconvert_exporter": "python",
   "pygments_lexer": "ipython3",
   "version": "3.7.4"
  }
 },
 "nbformat": 4,
 "nbformat_minor": 2
}
