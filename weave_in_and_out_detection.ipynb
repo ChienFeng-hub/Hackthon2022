{
 "cells": [
  {
   "cell_type": "code",
   "execution_count": 1,
   "metadata": {},
   "outputs": [],
   "source": [
    "import numpy as np\n",
    "import cv2 as cv\n",
    "import matplotlib.pyplot as plt\n",
    "from motrackers import CentroidTracker, CentroidKF_Tracker, SORT, IOUTracker\n",
    "from motrackers.utils import draw_tracks\n",
    "from car_detector.hybridnets import HybridNets, optimized_model\n",
    "from car_detector.hybridnets.utils import util_draw_bird_eye_view, get_horizon_points\n",
    "from collections import OrderedDict"
   ]
  },
  {
   "cell_type": "code",
   "execution_count": 2,
   "metadata": {},
   "outputs": [
    {
     "name": "stderr",
     "output_type": "stream",
     "text": [
      "/home/chienfeng/.virtualenvs/hackthon/lib/python3.7/site-packages/onnxruntime/capi/onnxruntime_inference_collection.py:56: UserWarning: Specified provider 'CUDAExecutionProvider' is not in available provider names.Available providers: 'CPUExecutionProvider'\n",
      "  \"Available providers: '{}'\".format(name, \", \".join(available_provider_names))\n"
     ]
    }
   ],
   "source": [
    "VIDEO_FILE = \"demo_video/snake.mp4\"\n",
    "model_path = \"car_detector/models/hybridnets_384x512/hybridnets_384x512.onnx\"\n",
    "anchor_path = \"car_detector/models/hybridnets_384x512/anchors_384x512.npy\"\n",
    "\n",
    "# Initialize road detector\n",
    "optimized_model(model_path) # Remove unused nodes\n",
    "car_detector = HybridNets(model_path, anchor_path, conf_thres=0.5, iou_thres=0.5)"
   ]
  },
  {
   "cell_type": "code",
   "execution_count": 3,
   "metadata": {},
   "outputs": [],
   "source": [
    "tracker = IOUTracker(max_lost=5, iou_threshold=0.5, min_detection_confidence=0.4, max_detection_confidence=0.7,\n",
    "                         tracker_output_format='mot_challenge')"
   ]
  },
  {
   "cell_type": "code",
   "execution_count": 4,
   "metadata": {},
   "outputs": [],
   "source": [
    "def insert(dict, tracks):\n",
    "    for track in tracks:\n",
    "        frame, id, bb_left, bb_top, bb_right, bb_bottom, confidence, x, y, z = track\n",
    "        frame -= 1\n",
    "        if dict.get(id) is not None:\n",
    "            dict[id].append([frame, bb_left, bb_top, bb_right, bb_bottom])\n",
    "        else:\n",
    "            dict[id] = [frame, bb_left, bb_top, bb_right, bb_bottom]\n"
   ]
  },
  {
   "cell_type": "code",
   "execution_count": 7,
   "metadata": {},
   "outputs": [
    {
     "name": "stdout",
     "output_type": "stream",
     "text": [
      "Dangerous!\n",
      "Dangerous!\n",
      "Cannot read the video feed.\n"
     ]
    }
   ],
   "source": [
    "track_dict = {}\n",
    "cap = cv.VideoCapture(VIDEO_FILE)\n",
    "ok, image = cap.read()\n",
    "H, W = int(image.shape[0]/2), int(image.shape[1]/2)\n",
    "center = np.array([W/2, H/2]).astype(int)\n",
    "line_indices = [np.arange(H/2,H).astype(int), \n",
    "                (W/2*np.ones_like(np.arange(H/2,H))).astype(int)]\n",
    "prev_flag, now_flag = False, False\n",
    "prev_frame, now_frame = 0, 0\n",
    "danger = (0, 0)\n",
    "cnt = 0\n",
    "\n",
    "img_list = []\n",
    "while True:\n",
    "    ok, image = cap.read()\n",
    "\n",
    "    if not ok:\n",
    "        print(\"Cannot read the video feed.\")\n",
    "        break\n",
    "    \n",
    "    now_frame += 1\n",
    "    image = cv.resize(image, (W, H))\n",
    "    seg_map, filtered_boxes, filtered_scores = car_detector(image)\n",
    "\n",
    "    class_ids = np.ones_like(filtered_scores).astype(int)\n",
    "    confidence = np.ones_like(filtered_scores)\n",
    "    tracks = tracker.update(filtered_boxes, confidence, class_ids=class_ids)\n",
    "\n",
    "    updated_image = car_detector.draw_2D(image, alpha=0)\n",
    "    \n",
    "    # detect snake\n",
    "    if (updated_image[center[1], center[0], :] == [192, 67, 251]).all():\n",
    "        updated_image[line_indices[0], line_indices[1], :] = [0, 0, 255]\n",
    "        now_flag = True\n",
    "        if bool(now_flag) ^ bool(prev_flag):\n",
    "            cnt += 1\n",
    "            if cnt == 4:\n",
    "                grad = cnt/(now_frame - prev_frame)\n",
    "                if grad > (4/300):\n",
    "                    print('Dangerous!')\n",
    "                    danger = (now_frame, now_frame + 30)\n",
    "                prev_frame = now_frame\n",
    "                cnt = 0\n",
    "        prev_flag = now_flag\n",
    "    else:\n",
    "        now_flag = False\n",
    "        if bool(now_flag) ^ bool(prev_flag):\n",
    "            cnt += 1\n",
    "            if cnt == 4:\n",
    "                grad = cnt/(now_frame - prev_frame)\n",
    "                if grad > (4/300):\n",
    "                    print('Dangerous!')\n",
    "                    danger = (now_frame, now_frame + 30)\n",
    "                prev_frame = now_frame\n",
    "                cnt = 0\n",
    "        prev_flag = now_flag\n",
    "        updated_image[line_indices[0], line_indices[1], :] = [124, 252, 0]\n",
    "    \n",
    "    if now_frame > danger[0] and now_frame < danger[1]:\n",
    "        updated_image = cv.putText(updated_image, 'Dangerous!', (center[0], 50), cv.FONT_HERSHEY_SIMPLEX, 1\n",
    "                   , (0, 0, 255), 2, cv.LINE_AA)\n",
    "    \n",
    "    img_list.append(cv.cvtColor(updated_image, cv.COLOR_BGR2RGB))\n",
    "    cv.imshow(\"image\", updated_image)\n",
    "    if cv.waitKey(1) & 0xff == ord('q'):\n",
    "        break\n",
    "\n",
    "cap.release()\n",
    "cv.destroyAllWindows()"
   ]
  },
  {
   "cell_type": "code",
   "execution_count": 8,
   "metadata": {},
   "outputs": [],
   "source": [
    "import imageio\n",
    "imageio.mimsave(f\"self_snake.gif\", img_list, duration=0.15)"
   ]
  },
  {
   "cell_type": "code",
   "execution_count": null,
   "metadata": {},
   "outputs": [],
   "source": []
  }
 ],
 "metadata": {
  "interpreter": {
   "hash": "2f63fa8cfeb2f82f0df13e3a4deecfe6d2a413ebdd3a69fbab179677aa6b7634"
  },
  "kernelspec": {
   "display_name": "Python 3 (ipykernel)",
   "language": "python",
   "name": "python3"
  },
  "language_info": {
   "codemirror_mode": {
    "name": "ipython",
    "version": 3
   },
   "file_extension": ".py",
   "mimetype": "text/x-python",
   "name": "python",
   "nbconvert_exporter": "python",
   "pygments_lexer": "ipython3",
   "version": "3.7.4"
  }
 },
 "nbformat": 4,
 "nbformat_minor": 2
}
